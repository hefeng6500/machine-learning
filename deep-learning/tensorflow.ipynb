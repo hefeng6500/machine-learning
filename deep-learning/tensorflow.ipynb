{
 "cells": [
  {
   "cell_type": "markdown",
   "metadata": {},
   "source": [
    "# Tensorflow"
   ]
  },
  {
   "cell_type": "code",
   "execution_count": 4,
   "metadata": {},
   "outputs": [],
   "source": [
    "import tensorflow as tf"
   ]
  },
  {
   "cell_type": "code",
   "execution_count": null,
   "metadata": {},
   "outputs": [
    {
     "name": "stdout",
     "output_type": "stream",
     "text": [
      "Epoch 1/5\n",
      "1875/1875 [==============================] - 7s 3ms/step - loss: 0.2987 - accuracy: 0.9131\n",
      "Epoch 2/5\n",
      "1875/1875 [==============================] - 6s 3ms/step - loss: 0.1447 - accuracy: 0.9568\n",
      "Epoch 3/5\n",
      "1875/1875 [==============================] - 5s 3ms/step - loss: 0.1067 - accuracy: 0.9680\n",
      "Epoch 4/5\n",
      "1875/1875 [==============================] - 4s 2ms/step - loss: 0.0878 - accuracy: 0.9728\n",
      "Epoch 5/5\n",
      "1875/1875 [==============================] - 5s 3ms/step - loss: 0.0751 - accuracy: 0.9769\n",
      "313/313 - 1s - loss: 0.0677 - accuracy: 0.9788 - 969ms/epoch - 3ms/step\n"
     ]
    },
    {
     "data": {
      "text/plain": [
       "<tf.Tensor: shape=(5, 10), dtype=float32, numpy=\n",
       "array([[7.7933635e-07, 1.1311809e-08, 7.7788818e-06, 2.8908651e-04,\n",
       "        2.8786468e-10, 2.2197597e-05, 4.9024391e-12, 9.9967396e-01,\n",
       "        1.8430827e-06, 4.4004360e-06],\n",
       "       [4.4234834e-08, 6.6357863e-04, 9.9927050e-01, 6.1173254e-05,\n",
       "        2.2872462e-13, 8.4136400e-07, 1.6939020e-09, 1.7233712e-10,\n",
       "        3.9387542e-06, 6.4320680e-12],\n",
       "       [7.9175607e-07, 9.9939048e-01, 1.1978785e-04, 5.7900738e-06,\n",
       "        3.4104261e-05, 2.6174203e-06, 6.6504172e-06, 3.5738113e-04,\n",
       "        8.2074672e-05, 3.8494045e-07],\n",
       "       [9.9832803e-01, 2.2423433e-07, 6.9610460e-04, 1.4332512e-06,\n",
       "        5.1266429e-06, 1.1120824e-05, 4.2885722e-04, 1.9828860e-04,\n",
       "        3.6730634e-07, 3.3031323e-04],\n",
       "       [1.8679377e-06, 3.3848908e-09, 7.9058168e-07, 2.2261037e-08,\n",
       "        9.9779773e-01, 1.2260971e-07, 8.6042513e-07, 3.1215422e-05,\n",
       "        1.3550692e-07, 2.1672356e-03]], dtype=float32)>"
      ]
     },
     "execution_count": 5,
     "metadata": {},
     "output_type": "execute_result"
    }
   ],
   "source": [
    "# 加载数据集\n",
    "mnist = tf.keras.datasets.mnist\n",
    "\n",
    "(x_train, y_train), (x_test, y_test) = mnist.load_data()\n",
    "x_train, x_test = x_train / 255.0, x_test / 255.0\n",
    "\n",
    "\n",
    "# 构建机器学习模型\n",
    "model = tf.keras.models.Sequential([\n",
    "  tf.keras.layers.Flatten(input_shape=(28, 28)),\n",
    "  tf.keras.layers.Dense(128, activation='relu'),\n",
    "  tf.keras.layers.Dropout(0.2),\n",
    "  tf.keras.layers.Dense(10)\n",
    "])\n",
    "\n",
    "predictions = model(x_train[:1]).numpy()\n",
    "\n",
    "tf.nn.softmax(predictions).numpy()\n",
    "\n",
    "loss_fn = tf.keras.losses.SparseCategoricalCrossentropy(from_logits=True)\n",
    "\n",
    "loss_fn(y_train[:1], predictions).numpy()\n",
    "\n",
    "model.compile(optimizer='adam',\n",
    "              loss=loss_fn,\n",
    "              metrics=['accuracy'])\n",
    "\n",
    "model.fit(x_train, y_train, epochs=5)\n",
    "\n",
    "model.evaluate(x_test,  y_test, verbose=2)\n",
    "\n",
    "probability_model = tf.keras.Sequential([\n",
    "  model,\n",
    "  tf.keras.layers.Softmax()\n",
    "])\n",
    "\n",
    "probability_model(x_test[:5])"
   ]
  }
 ],
 "metadata": {
  "kernelspec": {
   "display_name": "python_3.10",
   "language": "python",
   "name": "python3"
  },
  "language_info": {
   "codemirror_mode": {
    "name": "ipython",
    "version": 3
   },
   "file_extension": ".py",
   "mimetype": "text/x-python",
   "name": "python",
   "nbconvert_exporter": "python",
   "pygments_lexer": "ipython3",
   "version": "3.10.13"
  }
 },
 "nbformat": 4,
 "nbformat_minor": 2
}
