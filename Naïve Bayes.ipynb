{
 "cells": [
  {
   "cell_type": "markdown",
   "metadata": {},
   "source": [
    "# 朴素贝叶斯（Naïve Bayes）\n",
    "\n",
    "朴素贝叶斯用于文本分类\n",
    "\n",
    "该代码使用多项式朴素贝叶斯（Multinomial Naïve Bayes, MNB）对文本数据进行情感分类，即判断电影评论是正面（1）还是负面（0）。它通过计算不同类别下单词的条件概率，实现对新评论的分类。"
   ]
  },
  {
   "cell_type": "code",
   "execution_count": 20,
   "metadata": {},
   "outputs": [
    {
     "name": "stdout",
     "output_type": "stream",
     "text": [
      "[0 1]\n"
     ]
    }
   ],
   "source": [
    "from sklearn.naive_bayes import MultinomialNB\n",
    "from sklearn.feature_extraction.text import CountVectorizer\n",
    "\n",
    "# 训练数据\n",
    "X_train = [\"I love this movie\", \"This film was great\", \"Horrible acting\", \"Worst movie ever\"]\n",
    "y_train = [1, 1, 0, 0]  # 1: 正面评价, 0: 负面评价\n",
    "\n",
    "# 文本转换为特征向量\n",
    "vectorizer = CountVectorizer()\n",
    "X_train_vec = vectorizer.fit_transform(X_train)\n",
    "\n",
    "# 训练朴素贝叶斯分类器\n",
    "nb = MultinomialNB()\n",
    "nb.fit(X_train_vec, y_train)\n",
    "\n",
    "# 预测\n",
    "X_test = [\"movie\", \"Terrible film\"]\n",
    "X_test_vec = vectorizer.transform(X_test)\n",
    "predictions = nb.predict(X_test_vec)\n",
    "\n",
    "print(predictions)  # [1, 0] 预测为：正面评价, 负面评价\n"
   ]
  },
  {
   "cell_type": "markdown",
   "metadata": {},
   "source": [
    "## 朴素贝叶斯预测是否是垃圾邮件"
   ]
  },
  {
   "cell_type": "code",
   "execution_count": 21,
   "metadata": {},
   "outputs": [
    {
     "name": "stdout",
     "output_type": "stream",
     "text": [
      "[1 0]\n"
     ]
    }
   ],
   "source": [
    "from sklearn.naive_bayes import MultinomialNB\n",
    "from sklearn.feature_extraction.text import CountVectorizer\n",
    "\n",
    "# 训练数据\n",
    "emails = [\n",
    "  \"Free money now!!!\", \n",
    "  \"Hi Bob, how about a game of golf tomorrow?\", \n",
    "  \"Earn $1000 per week from home\", \n",
    "  \"Hey Alice, are you coming to the party tonight?\", \n",
    "  \"Congratulations, you've won a free ticket to Bahamas!\"\n",
    "]\n",
    "labels = [1, 0, 1, 0, 1]  # 1: 垃圾邮件, 0: 非垃圾邮件\n",
    "\n",
    "# 文本转换为特征向量\n",
    "email_vectorizer = CountVectorizer()\n",
    "emails_vec = email_vectorizer.fit_transform(emails)\n",
    "\n",
    "# 训练朴素贝叶斯分类器\n",
    "spam_nb = MultinomialNB()\n",
    "spam_nb.fit(emails_vec, labels)\n",
    "\n",
    "# 预测\n",
    "new_emails = [\"Win a free iPhone now\", \"Hi John, let's catch up over coffee\"]\n",
    "new_emails_vec = email_vectorizer.transform(new_emails)\n",
    "spam_predictions = spam_nb.predict(new_emails_vec)\n",
    "\n",
    "print(spam_predictions)  # [1, 0] 预测为：垃圾邮件, 非垃圾邮件"
   ]
  }
 ],
 "metadata": {
  "kernelspec": {
   "display_name": "python_3.13.2",
   "language": "python",
   "name": "python3"
  },
  "language_info": {
   "codemirror_mode": {
    "name": "ipython",
    "version": 3
   },
   "file_extension": ".py",
   "mimetype": "text/x-python",
   "name": "python",
   "nbconvert_exporter": "python",
   "pygments_lexer": "ipython3",
   "version": "3.13.2"
  }
 },
 "nbformat": 4,
 "nbformat_minor": 2
}
